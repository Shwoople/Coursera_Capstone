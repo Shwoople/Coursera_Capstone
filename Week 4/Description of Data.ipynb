{
 "cells": [
  {
   "cell_type": "markdown",
   "metadata": {},
   "source": [
    "# The Battle of the Neighbourhoods - Description of Data"
   ]
  },
  {
   "cell_type": "markdown",
   "metadata": {},
   "source": [
    "The data we are going to be using is from a page detailing the list of postal codes of Canada that begin with M. This relates to the region of Ontario in Toronto. We have already looked at and scraped this dataset in our Week 3 assignment.  The dataset consists of Postal Code, Borough and Neighborhood.\n",
    "\n",
    "Link to data: https://en.wikipedia.org/wiki/List_of_postal_codes_of_Canada:_M\n",
    "\n",
    "We will be using this alongside Foursquare API data, this will provide location data for different venues in the various neighbourhoods. This location data will include information such as venue name, location, menus and photos. As this will provide all the information we need about the locations this will act as the sole data source for my project.\n",
    "\n",
    "Once we have the list of neighbourhoods, we will gather information about venues within each of the nieghbourhoods using the Foursquare API within the chosen radius of 500m.\n",
    "\n",
    "The data for each venue will be:\n",
    "\n",
    "- Neighbourhood\n",
    "- Neighbourhood Latitude\n",
    "- Neighbourhood Longitude\n",
    "- Venue\n",
    "- Name of the Venue\n",
    "- Venue Latitude\n",
    "- Venue Longitude\n",
    "- Venue Category"
   ]
  },
  {
   "cell_type": "code",
   "execution_count": null,
   "metadata": {},
   "outputs": [],
   "source": []
  }
 ],
 "metadata": {
  "kernelspec": {
   "display_name": "Python",
   "language": "python",
   "name": "conda-env-python-py"
  },
  "language_info": {
   "codemirror_mode": {
    "name": "ipython",
    "version": 3
   },
   "file_extension": ".py",
   "mimetype": "text/x-python",
   "name": "python",
   "nbconvert_exporter": "python",
   "pygments_lexer": "ipython3",
   "version": "3.6.11"
  }
 },
 "nbformat": 4,
 "nbformat_minor": 4
}
