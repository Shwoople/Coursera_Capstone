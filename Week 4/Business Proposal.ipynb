{
 "cells": [
  {
   "cell_type": "markdown",
   "metadata": {},
   "source": [
    "# The Battle of the Neighbourhoods - Business Proposal"
   ]
  },
  {
   "cell_type": "markdown",
   "metadata": {},
   "source": [
    "## Introduction"
   ]
  },
  {
   "cell_type": "markdown",
   "metadata": {},
   "source": [
    "This project has been designed to help people explore better facilities in their neighbourhood, and in particular finding similar feeling neighbourhoods in places they could move to based on the facilities they're already used to. I hope this will help improve the decision making for people moving to other neighbourhoods in Scarborough, Toronto.\n",
    "\n",
    "My hope for this project is that it will create an analysis of some of the features in Scarborough so that when people move to variouis neighbourhoods in it they will be able to find similar areas to what they're used to. I will be looking at schools based on ratings, median house prices, crime rates, road connectivity, weather conditions, good emergency response management, leisure facilities as well as water/waste management.\n",
    "\n",
    "The result of this will hopefully be that people will have an awareness of neighbourhoods in Scarborough to consider when needing to move as a result of a new job, turning over a leaf in their life or any other reason to move."
   ]
  },
  {
   "cell_type": "markdown",
   "metadata": {},
   "source": [
    "## The Purpose"
   ]
  },
  {
   "cell_type": "markdown",
   "metadata": {},
   "source": [
    "The purpose for this project is to suggest a better neighbourhood in Scarborough either from moving within Scarborough, though this could also be used as consideration for people moving into Scarborough from anywhere in the world. Connection to transport hubs, shopping centres and social hubs will be considered. We will be considering two main points:\n",
    "\n",
    "- A sorted list of houses in terms of house price\n",
    "- A sorted list of schools based on fees, location, ratings and reviews"
   ]
  },
  {
   "cell_type": "markdown",
   "metadata": {},
   "source": [
    "## Location"
   ]
  },
  {
   "cell_type": "markdown",
   "metadata": {},
   "source": [
    "As mentioned previously we will be considering Scarborough for this project due to its popularity within Canada for new immigrants. With it being a popular immigration City it has resulted in the City becoming a melting pot of culture, religion and the creative minds from across the world."
   ]
  },
  {
   "cell_type": "markdown",
   "metadata": {},
   "source": [
    "## Foursquare API"
   ]
  },
  {
   "cell_type": "markdown",
   "metadata": {},
   "source": [
    "We are going to be using the Foursquare API as it is the largest and most respected source of location based data, being used to power popular mapping applications such as Google Maps. As we have limits on how much we can request data from the Foursquare API we will be limiting the number of places per neighbourhood to 100 with a radius of 500."
   ]
  },
  {
   "cell_type": "markdown",
   "metadata": {},
   "source": [
    "## Clustering Approach"
   ]
  },
  {
   "cell_type": "markdown",
   "metadata": {},
   "source": [
    "To compare the similarities between where we are living now and potential places to move to we will be exploring neighbourhoods. Once we have segmented them we will group them into clusters so that we can find similar neighbourhoods to places we may be living in now. Clustering data like this is a form of unsupervised machine learning known as k-means clustering."
   ]
  },
  {
   "cell_type": "markdown",
   "metadata": {},
   "source": [
    "## Libraries we will be using"
   ]
  },
  {
   "cell_type": "markdown",
   "metadata": {},
   "source": [
    "- __Pandas__ for creating and manipulating our dataframes\n",
    "- __Folium__ this will act as our visualisation library to visualse the neighbourhood cluster distribution\n",
    "- __SciKit Learn__ for importing and using k-means clustering\n",
    "- __JSON__ to handle our JSON files\n",
    "- __XML__ to separate data from presentation and XML to store data in a plain text format\n",
    "- __Geocoder__ To retrieve location based data\n",
    "- __Beautiful Soup and Requests__ to scrape and create libraries to handle our http requests\n",
    "- __MatPlotLib__ as our Python based plotting module"
   ]
  },
  {
   "cell_type": "code",
   "execution_count": null,
   "metadata": {},
   "outputs": [],
   "source": []
  }
 ],
 "metadata": {
  "kernelspec": {
   "display_name": "Python",
   "language": "python",
   "name": "conda-env-python-py"
  },
  "language_info": {
   "codemirror_mode": {
    "name": "ipython",
    "version": 3
   },
   "file_extension": ".py",
   "mimetype": "text/x-python",
   "name": "python",
   "nbconvert_exporter": "python",
   "pygments_lexer": "ipython3",
   "version": "3.6.11"
  }
 },
 "nbformat": 4,
 "nbformat_minor": 4
}
